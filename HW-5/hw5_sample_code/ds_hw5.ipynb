{
  "nbformat": 4,
  "nbformat_minor": 0,
  "metadata": {
    "colab": {
      "provenance": [],
      "gpuType": "T4"
    },
    "kernelspec": {
      "name": "python3",
      "display_name": "Python 3"
    },
    "language_info": {
      "name": "python"
    },
    "accelerator": "GPU"
  },
  "cells": [
    {
      "cell_type": "code",
      "execution_count": 1,
      "metadata": {
        "colab": {
          "base_uri": "https://localhost:8080/"
        },
        "id": "qzBcCqJf6Jc-",
        "outputId": "c1a1b185-8947-40d7-f4b2-d96465f7feca"
      },
      "outputs": [
        {
          "output_type": "stream",
          "name": "stdout",
          "text": [
            "Mounted at /content/drive\n"
          ]
        }
      ],
      "source": [
        "from google.colab import drive\n",
        "drive.mount('/content/drive')"
      ]
    },
    {
      "cell_type": "code",
      "source": [
        "%cd drive/MyDrive/adversarial_attack/hw5_sample_code/hw5_sample_code"
      ],
      "metadata": {
        "colab": {
          "base_uri": "https://localhost:8080/"
        },
        "id": "vqLbGYfE1gFB",
        "outputId": "ab7984d4-78ea-4dd6-f7c3-2401a2ae0c15"
      },
      "execution_count": 2,
      "outputs": [
        {
          "output_type": "stream",
          "name": "stdout",
          "text": [
            "/content/drive/MyDrive/adversarial_attack/hw5_sample_code/hw5_sample_code\n"
          ]
        }
      ]
    },
    {
      "cell_type": "code",
      "source": [
        "!python main.py --input_file target_nodes_list.txt --data_path ./data/data.pkl --model_path saved-models/gcn.pt --use_gpu"
      ],
      "metadata": {
        "id": "1x-Y3RG26ReL",
        "colab": {
          "base_uri": "https://localhost:8080/"
        },
        "outputId": "8fe803d7-5a59-4405-f246-513abe3b35b2"
      },
      "execution_count": 3,
      "outputs": [
        {
          "output_type": "stream",
          "name": "stdout",
          "text": [
            "cuda: True\n",
            "/content/drive/MyDrive/adversarial_attack/hw5_sample_code/hw5_sample_code/main.py:71: DeprecationWarning: Please use `csr_matrix` from the `scipy.sparse` namespace, the `scipy.sparse.csr` namespace is deprecated.\n",
            "  data = pickle.load(Path(args.data_path).open('rb'))\n",
            "target node=43, n_perturbations=5\n",
            "cuda\n",
            "##### Starting attack #####\n",
            "##### Performing 3 perturbations #####\n",
            "##### ...1/3 perturbations ... #####\n",
            "##### ...2/3 perturbations ... #####\n",
            "##### ...3/3 perturbations ... #####\n",
            "attack success\n",
            "--------------------------------------------------\n",
            "target node=129, n_perturbations=8\n",
            "cuda\n",
            "##### Starting attack #####\n",
            "##### Performing 6 perturbations #####\n",
            "##### ...1/6 perturbations ... #####\n",
            "##### ...2/6 perturbations ... #####\n",
            "##### ...3/6 perturbations ... #####\n",
            "##### ...4/6 perturbations ... #####\n",
            "##### ...5/6 perturbations ... #####\n",
            "##### ...6/6 perturbations ... #####\n",
            "attack success\n",
            "--------------------------------------------------\n",
            "target node=1932, n_perturbations=4\n",
            "cuda\n",
            "##### Starting attack #####\n",
            "##### Performing 2 perturbations #####\n",
            "##### ...1/2 perturbations ... #####\n",
            "##### ...2/2 perturbations ... #####\n",
            "attack success\n",
            "--------------------------------------------------\n",
            "target node=1790, n_perturbations=8\n",
            "cuda\n",
            "##### Starting attack #####\n",
            "##### Performing 6 perturbations #####\n",
            "##### ...1/6 perturbations ... #####\n",
            "##### ...2/6 perturbations ... #####\n",
            "##### ...3/6 perturbations ... #####\n",
            "##### ...4/6 perturbations ... #####\n",
            "##### ...5/6 perturbations ... #####\n",
            "##### ...6/6 perturbations ... #####\n",
            "attack success\n",
            "--------------------------------------------------\n",
            "target node=1292, n_perturbations=7\n",
            "cuda\n",
            "##### Starting attack #####\n",
            "##### Performing 5 perturbations #####\n",
            "##### ...1/5 perturbations ... #####\n",
            "##### ...2/5 perturbations ... #####\n",
            "##### ...3/5 perturbations ... #####\n",
            "##### ...4/5 perturbations ... #####\n",
            "##### ...5/5 perturbations ... #####\n",
            "attack success\n",
            "--------------------------------------------------\n",
            "target node=523, n_perturbations=8\n",
            "cuda\n",
            "##### Starting attack #####\n",
            "##### Performing 6 perturbations #####\n",
            "##### ...1/6 perturbations ... #####\n",
            "##### ...2/6 perturbations ... #####\n",
            "##### ...3/6 perturbations ... #####\n",
            "##### ...4/6 perturbations ... #####\n",
            "##### ...5/6 perturbations ... #####\n",
            "##### ...6/6 perturbations ... #####\n",
            "attack success\n",
            "--------------------------------------------------\n",
            "target node=372, n_perturbations=6\n",
            "cuda\n",
            "##### Starting attack #####\n",
            "##### Performing 4 perturbations #####\n",
            "##### ...1/4 perturbations ... #####\n",
            "##### ...2/4 perturbations ... #####\n",
            "##### ...3/4 perturbations ... #####\n",
            "##### ...4/4 perturbations ... #####\n",
            "attack success\n",
            "--------------------------------------------------\n",
            "target node=370, n_perturbations=4\n",
            "cuda\n",
            "##### Starting attack #####\n",
            "##### Performing 2 perturbations #####\n",
            "##### ...1/2 perturbations ... #####\n",
            "##### ...2/2 perturbations ... #####\n",
            "attack success\n",
            "--------------------------------------------------\n",
            "target node=1557, n_perturbations=4\n",
            "cuda\n",
            "##### Starting attack #####\n",
            "##### Performing 2 perturbations #####\n",
            "##### ...1/2 perturbations ... #####\n",
            "##### ...2/2 perturbations ... #####\n",
            "attack success\n",
            "--------------------------------------------------\n",
            "target node=30, n_perturbations=6\n",
            "cuda\n",
            "##### Starting attack #####\n",
            "##### Performing 4 perturbations #####\n",
            "##### ...1/4 perturbations ... #####\n",
            "##### ...2/4 perturbations ... #####\n",
            "##### ...3/4 perturbations ... #####\n",
            "##### ...4/4 perturbations ... #####\n",
            "attack success\n",
            "--------------------------------------------------\n",
            "misclassification rate : 1.0\n"
          ]
        }
      ]
    }
  ]
}