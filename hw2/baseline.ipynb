{
  "cells": [
    {
      "cell_type": "code",
      "execution_count": 115,
      "metadata": {
        "id": "7yZURvKLU9ZI"
      },
      "outputs": [],
      "source": [
        "import pandas as pd\n",
        "import numpy as np\n",
        "import matplotlib.pyplot as plt"
      ]
    },
    {
      "cell_type": "markdown",
      "metadata": {
        "id": "IkKJiQMmU9ZM"
      },
      "source": [
        "# Read Data"
      ]
    },
    {
      "cell_type": "code",
      "execution_count": 116,
      "metadata": {
        "id": "9-Q40J0DU9ZP"
      },
      "outputs": [],
      "source": [
        "# 為了處理方便，把 'train.csv' 和 'test.csv' 合併起來，'test.csv'的 Weather 欄位用 0 補起來。\n",
        "train_dataset = pd.read_csv('train.csv')\n",
        "test_dataset = pd.read_csv('test.csv')\n",
        "test_dataset['Weather'] = np.zeros((len(test_dataset),))\n",
        "\n",
        "# 以 train_end_idx 作為 'train.csv' 和 'test.csv' 分界列，\n",
        "train_end_idx = len(train_dataset)\n",
        "df = pd.concat([train_dataset, test_dataset], sort=False)"
      ]
    },
    {
      "cell_type": "code",
      "source": [
        "normalization = False\n",
        "one_hot = False\n",
        "train_model = ['DecisionTree', 'KNeighbors', 'Regression', 'AdaBoost', 'NaiveBayes'] # 'DecisionTree', 'KNeighbors', 'SVM', 'RandomForest', 'Regression', 'AdaBoost', 'NaiveBayes', 'MLPClassifier', 'NN' "
      ],
      "metadata": {
        "id": "mfLgtd_x_atd"
      },
      "execution_count": 117,
      "outputs": []
    },
    {
      "cell_type": "markdown",
      "metadata": {
        "id": "JoO0nQNBU9ZQ"
      },
      "source": [
        "# Preprocessing"
      ]
    },
    {
      "cell_type": "code",
      "source": [
        "X_train.columns"
      ],
      "metadata": {
        "colab": {
          "base_uri": "https://localhost:8080/"
        },
        "id": "VE50CqEtI7GH",
        "outputId": "ca8891d9-b369-451f-f2f1-5b3d0ccb17e4"
      },
      "execution_count": 118,
      "outputs": [
        {
          "output_type": "execute_result",
          "data": {
            "text/plain": [
              "Index(['Loc', 'TempLow', 'TempHigh', 'Steaming', 'Sun', 'WindDir', 'WindSpeed',\n",
              "       'DayWindDir', 'NightWindDir', 'DayWindSpeed', 'NightWindSpeed',\n",
              "       'DayHumidity', 'NightHumidity', 'NightPressure', 'DayCloud',\n",
              "       'NightCloud', 'DayTemp', 'NightTemp', 'RISK_MM'],\n",
              "      dtype='object')"
            ]
          },
          "metadata": {},
          "execution_count": 118
        }
      ]
    },
    {
      "cell_type": "code",
      "execution_count": 119,
      "metadata": {
        "id": "ufXA8T31U9ZR"
      },
      "outputs": [],
      "source": [
        "# features that we don't want\n",
        "drop_list = ['Date', 'DayPressure', 'DayPressure'] # drop_list = ['Weather', 'Date', 'Loc', 'WindDir', 'DayWindDir', 'NightWindDir']\n",
        "X_train, y_train = df.drop(columns=['Weather']).drop(columns=drop_list), df['Weather']"
      ]
    },
    {
      "cell_type": "code",
      "execution_count": 120,
      "metadata": {
        "id": "FWlZAHTSU9ZS"
      },
      "outputs": [],
      "source": [
        "columns = X_train.columns\n",
        "string_list = [col for col in columns if X_train[col].dtype == 'object']\n",
        "\n",
        "categorical_list = string_list.copy()\n",
        "categorical_list.append('DayCloud')\n",
        "categorical_list.append('NightCloud')\n",
        "\n",
        "numeric_list = [col for col in columns if col not in categorical_list]"
      ]
    },
    {
      "cell_type": "code",
      "execution_count": 121,
      "metadata": {
        "id": "4UddcYQsU9ZV"
      },
      "outputs": [],
      "source": [
        "# fig, axes = plt.subplots(nrows=4, ncols=4, figsize=(15,15))\n",
        "# plt.suptitle(\"Correlations\", fontsize=20)\n",
        "\n",
        "# count = 0\n",
        "# col = 0\n",
        "# for i in range(4):\n",
        "#     for j in range(4):\n",
        "#         axes[i,j].scatter(X_train[y_train==1][numeric_list[col]],X_train[y_train==1][numeric_list[count]],color=[\"crimson\"],s=50,alpha=0.8,label='1')\n",
        "#         axes[i,j].scatter(X_train[y_train==0][numeric_list[col]],X_train[y_train==0][numeric_list[count]],color=[\"chartreuse\"],s=20,label=\"0\")\n",
        "#         axes[i,j].set_xlabel(numeric_list[col])\n",
        "#         axes[i,j].set_ylabel(numeric_list[count])\n",
        "#         axes[i,j].legend(prop={'size': 10},loc=\"lower left\") #圖例setting\n",
        "#         col += 1"
      ]
    },
    {
      "cell_type": "code",
      "execution_count": 122,
      "metadata": {
        "id": "RiryeGgDU9ZY"
      },
      "outputs": [],
      "source": [
        "# Handle missing values\n",
        "# df = df.fillna(0)\n",
        "X_train['WindDir'] = X_train['WindDir'].fillna(X_train['DayWindDir'])\n",
        "X_train['DayWindDir'] = X_train['DayWindDir'].fillna(X_train['WindDir'])\n",
        "X_train['NightWindDir'] = X_train['NightWindDir'].fillna(X_train['WindDir'])\n",
        "\n",
        "X_train['WindSpeed'] = X_train['WindSpeed'].fillna(X_train['DayWindSpeed'])\n",
        "X_train['DayWindSpeed'] = X_train['DayWindSpeed'].fillna(X_train['WindSpeed'])\n",
        "X_train['NightWindSpeed'] = X_train['NightWindSpeed'].fillna(X_train['WindSpeed'])\n",
        "\n",
        "X_train['TempLow'] = X_train['TempLow'].fillna(X_train['DayTemp'])\n",
        "X_train['TempHigh'] = X_train['TempHigh'].fillna(X_train['NightTemp'])\n",
        "X_train['DayTemp'] = X_train['DayTemp'].fillna(X_train['TempHigh'])\n",
        "X_train['NightTemp'] = X_train['NightTemp'].fillna(X_train['TempHigh'])\n",
        "\n",
        "# if 'DayPressure' in drop_list or 'NightPressure' in drop_list:\n",
        "#   X_train['DayPressure'] = X_train['DayPressure'].fillna(X_train['NightPressure'])\n",
        "#   X_train['NightPressure'] = X_train['NightPressure'].fillna(X_train['NightPressure'])\n",
        "\n",
        "for d in string_list:\n",
        "    X_train[d] = X_train[d].fillna('Unknown')"
      ]
    },
    {
      "cell_type": "code",
      "execution_count": 123,
      "metadata": {
        "id": "T05RWADrU9Za"
      },
      "outputs": [],
      "source": [
        "from sklearn.preprocessing import LabelEncoder\n",
        "\n",
        "for d in string_list:\n",
        "    labelEncoder = LabelEncoder()\n",
        "    labelEncoder.fit(X_train[d])\n",
        "    X_train[d] = labelEncoder.transform(X_train[d]).astype(float)\n"
      ]
    },
    {
      "cell_type": "code",
      "execution_count": 124,
      "metadata": {
        "id": "CQa1UNtlU9Zb"
      },
      "outputs": [],
      "source": [
        "mean = X_train.mean()\n",
        "X_train = X_train.fillna(mean)"
      ]
    },
    {
      "cell_type": "code",
      "execution_count": 125,
      "metadata": {
        "id": "d_cDeTk7U9Zc"
      },
      "outputs": [],
      "source": [
        "if one_hot:\n",
        "  X_train = pd.get_dummies(data=X_train, columns=categorical_list)\n",
        "# X_train"
      ]
    },
    {
      "cell_type": "code",
      "execution_count": 126,
      "metadata": {
        "colab": {
          "base_uri": "https://localhost:8080/",
          "height": 488
        },
        "id": "SVgB6vuGU9Zd",
        "outputId": "da0e6d76-3183-4411-fe1c-bfa574448613"
      },
      "outputs": [
        {
          "output_type": "execute_result",
          "data": {
            "text/plain": [
              "        Loc  TempLow   TempHigh  Steaming        Sun  WindDir  WindSpeed  \\\n",
              "0      42.0     19.5  19.600000  5.694960   0.500000      1.0       61.0   \n",
              "1       9.0      2.1  15.700000  5.701668   5.700000      0.0       26.0   \n",
              "2      49.0     20.9  36.100000  5.694960   8.003251      8.0       39.0   \n",
              "3      40.0     11.5  23.900000  5.694960   7.993227      5.0       35.0   \n",
              "4      15.0      8.2  20.500000  3.200000   8.003251      3.0       69.0   \n",
              "...     ...      ...        ...       ...        ...      ...        ...   \n",
              "34839  42.0      9.6  21.500000  8.000000  12.000000     11.0       31.0   \n",
              "34840   9.0     11.6  31.400000  5.694960   7.993227      5.0       39.0   \n",
              "34841  21.0     22.2  34.500000  5.701668   7.600000      5.0       39.0   \n",
              "34842  20.0     16.4  43.500000  7.000000  12.700000      1.0       43.0   \n",
              "34843  46.0      6.9  23.480944  6.600000  10.600000      4.0       13.0   \n",
              "\n",
              "       DayWindDir  NightWindDir  DayWindSpeed  NightWindSpeed  DayHumidity  \\\n",
              "0             1.0           1.0          31.0            22.0    86.641375   \n",
              "1            13.0           9.0           9.0             7.0    53.275715   \n",
              "2             8.0          12.0          31.0            17.0    15.471574   \n",
              "3            14.0          13.0           7.0            17.0    46.442398   \n",
              "4             3.0          15.0          69.0            69.0    51.830889   \n",
              "...           ...           ...           ...             ...          ...   \n",
              "34839         2.0           9.0          17.0             9.0    39.878487   \n",
              "34840        13.0           9.0           7.0            39.0    51.902205   \n",
              "34841         5.0           3.0          26.0            39.0    30.743840   \n",
              "34842        13.0          13.0          19.0            19.0    28.084916   \n",
              "34843        13.0           5.0          13.0            19.0    30.948435   \n",
              "\n",
              "       NightHumidity  NightPressure  DayCloud  NightCloud  DayTemp  NightTemp  \\\n",
              "0          41.810006     1021.90000  4.154681     7.00000     19.6  19.600000   \n",
              "1          76.598048     1020.80000  4.000000     1.00000      9.0  14.100000   \n",
              "2          52.163254     1014.90000  4.167266     4.27812     24.2  33.900000   \n",
              "3          67.664733     1015.47264  4.167266     4.27812     13.8  21.800000   \n",
              "4          51.770240     1001.20000  7.000000     7.00000     20.5  17.600000   \n",
              "...              ...            ...       ...         ...      ...        ...   \n",
              "34839      57.490952     1022.80000  0.000000     6.00000     14.3  19.000000   \n",
              "34840      70.743790     1016.30000  4.167266     4.27812     19.3  31.400000   \n",
              "34841      64.412890     1008.50000  7.000000     7.00000     25.2  34.500000   \n",
              "34842      63.565166     1010.50000  0.000000     4.27812     28.9  43.500000   \n",
              "34843      56.550825     1011.80000  4.154681     4.27812     19.4  22.449716   \n",
              "\n",
              "        RISK_MM  \n",
              "0      1.772145  \n",
              "1      0.000000  \n",
              "2      0.000000  \n",
              "3      0.200000  \n",
              "4      0.600000  \n",
              "...         ...  \n",
              "34839  0.000000  \n",
              "34840  0.000000  \n",
              "34841  0.000000  \n",
              "34842  1.772145  \n",
              "34843  0.000000  \n",
              "\n",
              "[70000 rows x 19 columns]"
            ],
            "text/html": [
              "\n",
              "  <div id=\"df-dcebbe9b-2bfd-4f76-a67b-aca3c0f02bd6\">\n",
              "    <div class=\"colab-df-container\">\n",
              "      <div>\n",
              "<style scoped>\n",
              "    .dataframe tbody tr th:only-of-type {\n",
              "        vertical-align: middle;\n",
              "    }\n",
              "\n",
              "    .dataframe tbody tr th {\n",
              "        vertical-align: top;\n",
              "    }\n",
              "\n",
              "    .dataframe thead th {\n",
              "        text-align: right;\n",
              "    }\n",
              "</style>\n",
              "<table border=\"1\" class=\"dataframe\">\n",
              "  <thead>\n",
              "    <tr style=\"text-align: right;\">\n",
              "      <th></th>\n",
              "      <th>Loc</th>\n",
              "      <th>TempLow</th>\n",
              "      <th>TempHigh</th>\n",
              "      <th>Steaming</th>\n",
              "      <th>Sun</th>\n",
              "      <th>WindDir</th>\n",
              "      <th>WindSpeed</th>\n",
              "      <th>DayWindDir</th>\n",
              "      <th>NightWindDir</th>\n",
              "      <th>DayWindSpeed</th>\n",
              "      <th>NightWindSpeed</th>\n",
              "      <th>DayHumidity</th>\n",
              "      <th>NightHumidity</th>\n",
              "      <th>NightPressure</th>\n",
              "      <th>DayCloud</th>\n",
              "      <th>NightCloud</th>\n",
              "      <th>DayTemp</th>\n",
              "      <th>NightTemp</th>\n",
              "      <th>RISK_MM</th>\n",
              "    </tr>\n",
              "  </thead>\n",
              "  <tbody>\n",
              "    <tr>\n",
              "      <th>0</th>\n",
              "      <td>42.0</td>\n",
              "      <td>19.5</td>\n",
              "      <td>19.600000</td>\n",
              "      <td>5.694960</td>\n",
              "      <td>0.500000</td>\n",
              "      <td>1.0</td>\n",
              "      <td>61.0</td>\n",
              "      <td>1.0</td>\n",
              "      <td>1.0</td>\n",
              "      <td>31.0</td>\n",
              "      <td>22.0</td>\n",
              "      <td>86.641375</td>\n",
              "      <td>41.810006</td>\n",
              "      <td>1021.90000</td>\n",
              "      <td>4.154681</td>\n",
              "      <td>7.00000</td>\n",
              "      <td>19.6</td>\n",
              "      <td>19.600000</td>\n",
              "      <td>1.772145</td>\n",
              "    </tr>\n",
              "    <tr>\n",
              "      <th>1</th>\n",
              "      <td>9.0</td>\n",
              "      <td>2.1</td>\n",
              "      <td>15.700000</td>\n",
              "      <td>5.701668</td>\n",
              "      <td>5.700000</td>\n",
              "      <td>0.0</td>\n",
              "      <td>26.0</td>\n",
              "      <td>13.0</td>\n",
              "      <td>9.0</td>\n",
              "      <td>9.0</td>\n",
              "      <td>7.0</td>\n",
              "      <td>53.275715</td>\n",
              "      <td>76.598048</td>\n",
              "      <td>1020.80000</td>\n",
              "      <td>4.000000</td>\n",
              "      <td>1.00000</td>\n",
              "      <td>9.0</td>\n",
              "      <td>14.100000</td>\n",
              "      <td>0.000000</td>\n",
              "    </tr>\n",
              "    <tr>\n",
              "      <th>2</th>\n",
              "      <td>49.0</td>\n",
              "      <td>20.9</td>\n",
              "      <td>36.100000</td>\n",
              "      <td>5.694960</td>\n",
              "      <td>8.003251</td>\n",
              "      <td>8.0</td>\n",
              "      <td>39.0</td>\n",
              "      <td>8.0</td>\n",
              "      <td>12.0</td>\n",
              "      <td>31.0</td>\n",
              "      <td>17.0</td>\n",
              "      <td>15.471574</td>\n",
              "      <td>52.163254</td>\n",
              "      <td>1014.90000</td>\n",
              "      <td>4.167266</td>\n",
              "      <td>4.27812</td>\n",
              "      <td>24.2</td>\n",
              "      <td>33.900000</td>\n",
              "      <td>0.000000</td>\n",
              "    </tr>\n",
              "    <tr>\n",
              "      <th>3</th>\n",
              "      <td>40.0</td>\n",
              "      <td>11.5</td>\n",
              "      <td>23.900000</td>\n",
              "      <td>5.694960</td>\n",
              "      <td>7.993227</td>\n",
              "      <td>5.0</td>\n",
              "      <td>35.0</td>\n",
              "      <td>14.0</td>\n",
              "      <td>13.0</td>\n",
              "      <td>7.0</td>\n",
              "      <td>17.0</td>\n",
              "      <td>46.442398</td>\n",
              "      <td>67.664733</td>\n",
              "      <td>1015.47264</td>\n",
              "      <td>4.167266</td>\n",
              "      <td>4.27812</td>\n",
              "      <td>13.8</td>\n",
              "      <td>21.800000</td>\n",
              "      <td>0.200000</td>\n",
              "    </tr>\n",
              "    <tr>\n",
              "      <th>4</th>\n",
              "      <td>15.0</td>\n",
              "      <td>8.2</td>\n",
              "      <td>20.500000</td>\n",
              "      <td>3.200000</td>\n",
              "      <td>8.003251</td>\n",
              "      <td>3.0</td>\n",
              "      <td>69.0</td>\n",
              "      <td>3.0</td>\n",
              "      <td>15.0</td>\n",
              "      <td>69.0</td>\n",
              "      <td>69.0</td>\n",
              "      <td>51.830889</td>\n",
              "      <td>51.770240</td>\n",
              "      <td>1001.20000</td>\n",
              "      <td>7.000000</td>\n",
              "      <td>7.00000</td>\n",
              "      <td>20.5</td>\n",
              "      <td>17.600000</td>\n",
              "      <td>0.600000</td>\n",
              "    </tr>\n",
              "    <tr>\n",
              "      <th>...</th>\n",
              "      <td>...</td>\n",
              "      <td>...</td>\n",
              "      <td>...</td>\n",
              "      <td>...</td>\n",
              "      <td>...</td>\n",
              "      <td>...</td>\n",
              "      <td>...</td>\n",
              "      <td>...</td>\n",
              "      <td>...</td>\n",
              "      <td>...</td>\n",
              "      <td>...</td>\n",
              "      <td>...</td>\n",
              "      <td>...</td>\n",
              "      <td>...</td>\n",
              "      <td>...</td>\n",
              "      <td>...</td>\n",
              "      <td>...</td>\n",
              "      <td>...</td>\n",
              "      <td>...</td>\n",
              "    </tr>\n",
              "    <tr>\n",
              "      <th>34839</th>\n",
              "      <td>42.0</td>\n",
              "      <td>9.6</td>\n",
              "      <td>21.500000</td>\n",
              "      <td>8.000000</td>\n",
              "      <td>12.000000</td>\n",
              "      <td>11.0</td>\n",
              "      <td>31.0</td>\n",
              "      <td>2.0</td>\n",
              "      <td>9.0</td>\n",
              "      <td>17.0</td>\n",
              "      <td>9.0</td>\n",
              "      <td>39.878487</td>\n",
              "      <td>57.490952</td>\n",
              "      <td>1022.80000</td>\n",
              "      <td>0.000000</td>\n",
              "      <td>6.00000</td>\n",
              "      <td>14.3</td>\n",
              "      <td>19.000000</td>\n",
              "      <td>0.000000</td>\n",
              "    </tr>\n",
              "    <tr>\n",
              "      <th>34840</th>\n",
              "      <td>9.0</td>\n",
              "      <td>11.6</td>\n",
              "      <td>31.400000</td>\n",
              "      <td>5.694960</td>\n",
              "      <td>7.993227</td>\n",
              "      <td>5.0</td>\n",
              "      <td>39.0</td>\n",
              "      <td>13.0</td>\n",
              "      <td>9.0</td>\n",
              "      <td>7.0</td>\n",
              "      <td>39.0</td>\n",
              "      <td>51.902205</td>\n",
              "      <td>70.743790</td>\n",
              "      <td>1016.30000</td>\n",
              "      <td>4.167266</td>\n",
              "      <td>4.27812</td>\n",
              "      <td>19.3</td>\n",
              "      <td>31.400000</td>\n",
              "      <td>0.000000</td>\n",
              "    </tr>\n",
              "    <tr>\n",
              "      <th>34841</th>\n",
              "      <td>21.0</td>\n",
              "      <td>22.2</td>\n",
              "      <td>34.500000</td>\n",
              "      <td>5.701668</td>\n",
              "      <td>7.600000</td>\n",
              "      <td>5.0</td>\n",
              "      <td>39.0</td>\n",
              "      <td>5.0</td>\n",
              "      <td>3.0</td>\n",
              "      <td>26.0</td>\n",
              "      <td>39.0</td>\n",
              "      <td>30.743840</td>\n",
              "      <td>64.412890</td>\n",
              "      <td>1008.50000</td>\n",
              "      <td>7.000000</td>\n",
              "      <td>7.00000</td>\n",
              "      <td>25.2</td>\n",
              "      <td>34.500000</td>\n",
              "      <td>0.000000</td>\n",
              "    </tr>\n",
              "    <tr>\n",
              "      <th>34842</th>\n",
              "      <td>20.0</td>\n",
              "      <td>16.4</td>\n",
              "      <td>43.500000</td>\n",
              "      <td>7.000000</td>\n",
              "      <td>12.700000</td>\n",
              "      <td>1.0</td>\n",
              "      <td>43.0</td>\n",
              "      <td>13.0</td>\n",
              "      <td>13.0</td>\n",
              "      <td>19.0</td>\n",
              "      <td>19.0</td>\n",
              "      <td>28.084916</td>\n",
              "      <td>63.565166</td>\n",
              "      <td>1010.50000</td>\n",
              "      <td>0.000000</td>\n",
              "      <td>4.27812</td>\n",
              "      <td>28.9</td>\n",
              "      <td>43.500000</td>\n",
              "      <td>1.772145</td>\n",
              "    </tr>\n",
              "    <tr>\n",
              "      <th>34843</th>\n",
              "      <td>46.0</td>\n",
              "      <td>6.9</td>\n",
              "      <td>23.480944</td>\n",
              "      <td>6.600000</td>\n",
              "      <td>10.600000</td>\n",
              "      <td>4.0</td>\n",
              "      <td>13.0</td>\n",
              "      <td>13.0</td>\n",
              "      <td>5.0</td>\n",
              "      <td>13.0</td>\n",
              "      <td>19.0</td>\n",
              "      <td>30.948435</td>\n",
              "      <td>56.550825</td>\n",
              "      <td>1011.80000</td>\n",
              "      <td>4.154681</td>\n",
              "      <td>4.27812</td>\n",
              "      <td>19.4</td>\n",
              "      <td>22.449716</td>\n",
              "      <td>0.000000</td>\n",
              "    </tr>\n",
              "  </tbody>\n",
              "</table>\n",
              "<p>70000 rows × 19 columns</p>\n",
              "</div>\n",
              "      <button class=\"colab-df-convert\" onclick=\"convertToInteractive('df-dcebbe9b-2bfd-4f76-a67b-aca3c0f02bd6')\"\n",
              "              title=\"Convert this dataframe to an interactive table.\"\n",
              "              style=\"display:none;\">\n",
              "        \n",
              "  <svg xmlns=\"http://www.w3.org/2000/svg\" height=\"24px\"viewBox=\"0 0 24 24\"\n",
              "       width=\"24px\">\n",
              "    <path d=\"M0 0h24v24H0V0z\" fill=\"none\"/>\n",
              "    <path d=\"M18.56 5.44l.94 2.06.94-2.06 2.06-.94-2.06-.94-.94-2.06-.94 2.06-2.06.94zm-11 1L8.5 8.5l.94-2.06 2.06-.94-2.06-.94L8.5 2.5l-.94 2.06-2.06.94zm10 10l.94 2.06.94-2.06 2.06-.94-2.06-.94-.94-2.06-.94 2.06-2.06.94z\"/><path d=\"M17.41 7.96l-1.37-1.37c-.4-.4-.92-.59-1.43-.59-.52 0-1.04.2-1.43.59L10.3 9.45l-7.72 7.72c-.78.78-.78 2.05 0 2.83L4 21.41c.39.39.9.59 1.41.59.51 0 1.02-.2 1.41-.59l7.78-7.78 2.81-2.81c.8-.78.8-2.07 0-2.86zM5.41 20L4 18.59l7.72-7.72 1.47 1.35L5.41 20z\"/>\n",
              "  </svg>\n",
              "      </button>\n",
              "      \n",
              "  <style>\n",
              "    .colab-df-container {\n",
              "      display:flex;\n",
              "      flex-wrap:wrap;\n",
              "      gap: 12px;\n",
              "    }\n",
              "\n",
              "    .colab-df-convert {\n",
              "      background-color: #E8F0FE;\n",
              "      border: none;\n",
              "      border-radius: 50%;\n",
              "      cursor: pointer;\n",
              "      display: none;\n",
              "      fill: #1967D2;\n",
              "      height: 32px;\n",
              "      padding: 0 0 0 0;\n",
              "      width: 32px;\n",
              "    }\n",
              "\n",
              "    .colab-df-convert:hover {\n",
              "      background-color: #E2EBFA;\n",
              "      box-shadow: 0px 1px 2px rgba(60, 64, 67, 0.3), 0px 1px 3px 1px rgba(60, 64, 67, 0.15);\n",
              "      fill: #174EA6;\n",
              "    }\n",
              "\n",
              "    [theme=dark] .colab-df-convert {\n",
              "      background-color: #3B4455;\n",
              "      fill: #D2E3FC;\n",
              "    }\n",
              "\n",
              "    [theme=dark] .colab-df-convert:hover {\n",
              "      background-color: #434B5C;\n",
              "      box-shadow: 0px 1px 3px 1px rgba(0, 0, 0, 0.15);\n",
              "      filter: drop-shadow(0px 1px 2px rgba(0, 0, 0, 0.3));\n",
              "      fill: #FFFFFF;\n",
              "    }\n",
              "  </style>\n",
              "\n",
              "      <script>\n",
              "        const buttonEl =\n",
              "          document.querySelector('#df-dcebbe9b-2bfd-4f76-a67b-aca3c0f02bd6 button.colab-df-convert');\n",
              "        buttonEl.style.display =\n",
              "          google.colab.kernel.accessAllowed ? 'block' : 'none';\n",
              "\n",
              "        async function convertToInteractive(key) {\n",
              "          const element = document.querySelector('#df-dcebbe9b-2bfd-4f76-a67b-aca3c0f02bd6');\n",
              "          const dataTable =\n",
              "            await google.colab.kernel.invokeFunction('convertToInteractive',\n",
              "                                                     [key], {});\n",
              "          if (!dataTable) return;\n",
              "\n",
              "          const docLinkHtml = 'Like what you see? Visit the ' +\n",
              "            '<a target=\"_blank\" href=https://colab.research.google.com/notebooks/data_table.ipynb>data table notebook</a>'\n",
              "            + ' to learn more about interactive tables.';\n",
              "          element.innerHTML = '';\n",
              "          dataTable['output_type'] = 'display_data';\n",
              "          await google.colab.output.renderOutput(dataTable, element);\n",
              "          const docLink = document.createElement('div');\n",
              "          docLink.innerHTML = docLinkHtml;\n",
              "          element.appendChild(docLink);\n",
              "        }\n",
              "      </script>\n",
              "    </div>\n",
              "  </div>\n",
              "  "
            ]
          },
          "metadata": {},
          "execution_count": 126
        }
      ],
      "source": [
        "X_train"
      ]
    },
    {
      "cell_type": "markdown",
      "metadata": {
        "id": "k45glu0nU9Ze"
      },
      "source": [
        "# Split Data"
      ]
    },
    {
      "cell_type": "code",
      "execution_count": 127,
      "metadata": {
        "id": "itPgTO79U9Zg"
      },
      "outputs": [],
      "source": [
        "from sklearn.model_selection import train_test_split\n",
        "\n",
        "X_col = X_train.columns\n",
        "\n",
        "# Split data\n",
        "X_test = X_train.values[train_end_idx:, :]\n",
        "X_train, X_val, y_train, y_val = train_test_split(X_train.values[:train_end_idx], y_train.values[:train_end_idx], test_size=0.2)\n",
        "\n",
        "X_train = pd.DataFrame(data=X_train, columns=X_col)\n",
        "X_val = pd.DataFrame(data=X_val, columns=X_col)\n",
        "X_test = pd.DataFrame(data=X_test, columns=X_col)"
      ]
    },
    {
      "cell_type": "markdown",
      "metadata": {
        "id": "VQ__PxqlU9Zh"
      },
      "source": [
        "# Over-Sampling"
      ]
    },
    {
      "cell_type": "code",
      "execution_count": 128,
      "metadata": {
        "colab": {
          "base_uri": "https://localhost:8080/"
        },
        "id": "lFoHV7CZU9Zh",
        "outputId": "ac411d27-2ed0-49cb-cf65-bb2bd3264407"
      },
      "outputs": [
        {
          "output_type": "stream",
          "name": "stdout",
          "text": [
            "(array([0., 1.]), array([25126,  2998]))\n",
            "(array([0., 1.]), array([25126, 25116]))\n"
          ]
        }
      ],
      "source": [
        "# print(y_train.value_counts())\n",
        "print(np.unique(y_train, return_counts=True))\n",
        "\n",
        "# Over sampling\n",
        "from imblearn.over_sampling import SMOTE\n",
        "X_train, y_train = SMOTE(random_state=42).fit_resample(X_train, y_train)\n",
        "\n",
        "# Under sampling\n",
        "from imblearn.under_sampling import TomekLinks\n",
        "X_train, y_train = TomekLinks().fit_resample(X_train, y_train)\n",
        "\n",
        "# print(y_train.value_counts())\n",
        "print(np.unique(y_train, return_counts=True))"
      ]
    },
    {
      "cell_type": "markdown",
      "metadata": {
        "id": "kdXNHQVJU9Zi"
      },
      "source": [
        "# Normalization"
      ]
    },
    {
      "cell_type": "code",
      "execution_count": 129,
      "metadata": {
        "id": "lfiRxUyhU9Zj"
      },
      "outputs": [],
      "source": [
        "from sklearn.preprocessing import StandardScaler\n",
        "\n",
        "# Normalization\n",
        "if normalization:\n",
        "  features = X_train[numeric_list]\n",
        "  scaler = StandardScaler().fit(features.values)\n",
        "  features = scaler.transform(features.values)\n",
        "  X_train[numeric_list] = features\n",
        "  # X_train\n",
        "\n",
        "  val_features = X_val[numeric_list]\n",
        "  val_features = scaler.transform(val_features.values)\n",
        "  X_val[numeric_list] = val_features\n",
        "  # X_val\n",
        "\n",
        "  test_features = X_test[numeric_list]\n",
        "  test_features = scaler.transform(test_features.values)\n",
        "  X_test[numeric_list] = test_features\n",
        "  # X_test"
      ]
    },
    {
      "cell_type": "markdown",
      "metadata": {
        "id": "FRm2kjCCU9Zj"
      },
      "source": [
        "# Dimension Reduction"
      ]
    },
    {
      "cell_type": "code",
      "execution_count": 130,
      "metadata": {
        "id": "WhGUDubyU9Zk"
      },
      "outputs": [],
      "source": [
        "# from sklearn.decomposition import PCA\n",
        "# pca = PCA(n_components=130)\n",
        "# pca.fit(X_train)\n",
        "# X_train = pca.transform(X_train)\n",
        "# X_val = pca.transform(X_val)\n",
        "# X_test = pca.transform(X_test)"
      ]
    },
    {
      "cell_type": "code",
      "execution_count": 131,
      "metadata": {
        "colab": {
          "base_uri": "https://localhost:8080/"
        },
        "id": "ItZTvdoqU9Zk",
        "outputId": "1ac26aae-1ab0-4c7d-a6f9-117320bf2697"
      },
      "outputs": [
        {
          "output_type": "execute_result",
          "data": {
            "text/plain": [
              "(50242, 19)"
            ]
          },
          "metadata": {},
          "execution_count": 131
        }
      ],
      "source": [
        "X_train.shape"
      ]
    },
    {
      "cell_type": "markdown",
      "metadata": {
        "id": "fFpGAzqYU9Zm"
      },
      "source": [
        "# Train"
      ]
    },
    {
      "cell_type": "code",
      "execution_count": 132,
      "metadata": {
        "id": "-KdMLu42U9Zm"
      },
      "outputs": [],
      "source": [
        "from sklearn.metrics import accuracy_score, f1_score"
      ]
    },
    {
      "cell_type": "code",
      "execution_count": 133,
      "metadata": {
        "colab": {
          "base_uri": "https://localhost:8080/"
        },
        "id": "MJxsszTCU9Zm",
        "outputId": "43dd55dc-1d29-4270-c7d1-b2a41a89667e"
      },
      "outputs": [
        {
          "output_type": "stream",
          "name": "stdout",
          "text": [
            "Accuracy: 0.825228\n",
            "f1-score: 0.255603\n"
          ]
        }
      ],
      "source": [
        "from sklearn.tree import DecisionTreeClassifier\n",
        "\n",
        "#train tree model\n",
        "if 'DecisionTree' in train_model:\n",
        "  model = DecisionTreeClassifier()\n",
        "  model.fit(X_train, y_train)\n",
        "\n",
        "  #predict\n",
        "  y_pred = model.predict(X_val)\n",
        "  print('Accuracy: %f' % accuracy_score(y_val, y_pred))\n",
        "  print('f1-score: %f' % f1_score(y_val, y_pred))\n",
        "\n",
        "  ans_pred = model.predict(X_test)\n",
        "  df_sap = pd.DataFrame(ans_pred.astype(int), columns = ['Weather'])\n",
        "  df_sap.to_csv('DecisionTree.csv',  index_label = 'Id')"
      ]
    },
    {
      "cell_type": "code",
      "execution_count": 134,
      "metadata": {
        "colab": {
          "base_uri": "https://localhost:8080/"
        },
        "id": "VQaFGJ_YU9Zn",
        "outputId": "d89bb213-af2b-4a06-84d6-09a1126ddb62"
      },
      "outputs": [
        {
          "output_type": "stream",
          "name": "stdout",
          "text": [
            "Accuracy: 0.712173\n",
            "f1-score: 0.299169\n"
          ]
        }
      ],
      "source": [
        "from sklearn.neighbors import KNeighborsClassifier\n",
        "\n",
        "#train k-neighbors model\n",
        "if 'KNeighbors' in train_model:\n",
        "  model = KNeighborsClassifier()\n",
        "  model.fit(X_train, y_train)\n",
        "\n",
        "  #predict\n",
        "  y_pred = model.predict(X_val)\n",
        "  print('Accuracy: %f' % accuracy_score(y_val, y_pred))\n",
        "  print('f1-score: %f' % f1_score(y_val, y_pred))\n",
        "\n",
        "  ans_pred = model.predict(X_test)\n",
        "  df_sap = pd.DataFrame(ans_pred.astype(int), columns = ['Weather'])\n",
        "  df_sap.to_csv('KNeighbors.csv',  index_label = 'Id')"
      ]
    },
    {
      "cell_type": "code",
      "execution_count": 135,
      "metadata": {
        "id": "PJvmnYtiU9Zo"
      },
      "outputs": [],
      "source": [
        "from sklearn.svm import SVC\n",
        "\n",
        "# train SVM\n",
        "if 'SVM' in train_model:\n",
        "  model = SVC(kernel='rbf', C=2)\n",
        "  model.fit(X_train, y_train)\n",
        "\n",
        "  # predict\n",
        "  y_pred = model.predict(X_val)\n",
        "  print('Accuracy: %f' % accuracy_score(y_val, y_pred))\n",
        "  print('f1-score: %f' % f1_score(y_val, y_pred))\n",
        "\n",
        "  ans_pred = model.predict(X_test)\n",
        "  df_sap = pd.DataFrame(ans_pred.astype(int), columns = ['Weather'])\n",
        "  df_sap.to_csv('SVM.csv',  index_label = 'Id')"
      ]
    },
    {
      "cell_type": "code",
      "execution_count": 136,
      "metadata": {
        "colab": {
          "base_uri": "https://localhost:8080/"
        },
        "id": "lMeuRnLpU9Zo",
        "outputId": "7c8fda22-23ea-4403-b648-60126f45bd6b"
      },
      "outputs": [
        {
          "output_type": "stream",
          "name": "stdout",
          "text": [
            "Accuracy: 0.722127\n",
            "f1-score: 0.347797\n"
          ]
        }
      ],
      "source": [
        "from sklearn.linear_model import LogisticRegression\n",
        "\n",
        "#train Regression\n",
        "if 'Regression' in train_model:\n",
        "  model = LogisticRegression(max_iter=1000)\n",
        "  model.fit(X_train, y_train)\n",
        "\n",
        "  #predict\n",
        "  y_pred = model.predict(X_val)\n",
        "  print('Accuracy: %f' % accuracy_score(y_val, y_pred))\n",
        "  print('f1-score: %f' % f1_score(y_val, y_pred))\n",
        "\n",
        "  ans_pred = model.predict(X_test)\n",
        "  df_sap = pd.DataFrame(ans_pred.astype(int), columns = ['Weather'])\n",
        "  df_sap.to_csv('Regression.csv',  index_label = 'Id')"
      ]
    },
    {
      "cell_type": "code",
      "execution_count": 137,
      "metadata": {
        "id": "9NwwtjM-U9Zp"
      },
      "outputs": [],
      "source": [
        "from sklearn.ensemble import RandomForestClassifier\n",
        "\n",
        "#train random forest\n",
        "if 'RandomForest' in train_model:\n",
        "  model = RandomForestClassifier(criterion='entropy', n_estimators=200, max_depth=10)\n",
        "  model.fit(X_train, y_train)\n",
        "\n",
        "  #predict\n",
        "  y_pred = model.predict(X_val)\n",
        "  print('Accuracy: %f' % accuracy_score(y_val, y_pred))\n",
        "  print('f1-score: %f' % f1_score(y_val, y_pred))\n",
        "\n",
        "  ans_pred = model.predict(X_test)\n",
        "  df_sap = pd.DataFrame(ans_pred.astype(int), columns = ['Weather'])\n",
        "  df_sap.to_csv('RandomForest.csv',  index_label = 'Id')"
      ]
    },
    {
      "cell_type": "code",
      "execution_count": 138,
      "metadata": {
        "colab": {
          "base_uri": "https://localhost:8080/"
        },
        "id": "NJR72UrmU9Zq",
        "outputId": "e1a01bfc-a627-4244-a871-29658ed154fa"
      },
      "outputs": [
        {
          "output_type": "stream",
          "name": "stdout",
          "text": [
            "Accuracy: 0.833049\n",
            "f1-score: 0.369495\n"
          ]
        }
      ],
      "source": [
        "from sklearn.ensemble import AdaBoostClassifier\n",
        "\n",
        "#train AdaBoost\n",
        "if 'AdaBoost' in train_model:\n",
        "  model = AdaBoostClassifier(n_estimators=100, learning_rate=0.7)\n",
        "  model.fit(X_train, y_train)\n",
        "\n",
        "  #predict\n",
        "  y_pred = model.predict(X_val)\n",
        "  print('Accuracy: %f' % accuracy_score(y_val, y_pred))\n",
        "  print('f1-score: %f' % f1_score(y_val, y_pred))\n",
        "\n",
        "  ans_pred = model.predict(X_test)\n",
        "  df_sap = pd.DataFrame(ans_pred.astype(int), columns = ['Weather'])\n",
        "  df_sap.to_csv('AdaBoost.csv',  index_label = 'Id')"
      ]
    },
    {
      "cell_type": "code",
      "execution_count": 139,
      "metadata": {
        "colab": {
          "base_uri": "https://localhost:8080/"
        },
        "id": "Egj0ksF8U9Zr",
        "outputId": "e5418787-0c24-43f4-fc23-672b3be64f3d"
      },
      "outputs": [
        {
          "output_type": "stream",
          "name": "stdout",
          "text": [
            "Accuracy: 0.722838\n",
            "f1-score: 0.317816\n"
          ]
        }
      ],
      "source": [
        "from sklearn.naive_bayes import GaussianNB\n",
        "\n",
        "#train naive-bayes model\n",
        "if 'NaiveBayes' in train_model:\n",
        "  model = GaussianNB()\n",
        "  model.fit(X_train, y_train)\n",
        "\n",
        "  #predict\n",
        "  y_pred = model.predict(X_val)\n",
        "  print('Accuracy: %f' % accuracy_score(y_val, y_pred))\n",
        "  print('f1-score: %f' % f1_score(y_val, y_pred))\n",
        "\n",
        "  ans_pred = model.predict(X_test)\n",
        "  df_sap = pd.DataFrame(ans_pred.astype(int), columns = ['Weather'])\n",
        "  df_sap.to_csv('NaiveBayes.csv',  index_label = 'Id')"
      ]
    },
    {
      "cell_type": "code",
      "execution_count": 140,
      "metadata": {
        "id": "iTptZ9S9U9Zs"
      },
      "outputs": [],
      "source": [
        "from sklearn.neural_network import MLPClassifier\n",
        "\n",
        "#train MLP classifier\n",
        "if 'MLPClassifier' in train_model:\n",
        "  model = MLPClassifier(hidden_layer_sizes=(32,16,5), activation='relu', solver='adam', batch_size=200, learning_rate_init=1e-3, max_iter=200)\n",
        "  model.fit(X_train, y_train)\n",
        "\n",
        "  #predict\n",
        "  y_pred = model.predict(X_val)\n",
        "  print('Accuracy: %f' % accuracy_score(y_val, y_pred))\n",
        "  print('f1-score: %f' % f1_score(y_val, y_pred))\n",
        "\n",
        "  ans_pred = model.predict(X_test)\n",
        "  df_sap = pd.DataFrame(ans_pred.astype(int), columns = ['Weather'])\n",
        "  df_sap.to_csv('MLPClassifier.csv',  index_label = 'Id')"
      ]
    },
    {
      "cell_type": "code",
      "execution_count": 141,
      "metadata": {
        "id": "NSpYvQkTU9Zs"
      },
      "outputs": [],
      "source": [
        "import tensorflow as tf\n",
        "from tensorflow.keras import layers, models\n",
        "\n",
        "if 'NN' in train_model:\n",
        "  model = models.Sequential()\n",
        "  model.add(layers.Dense(128, activation='relu'))\n",
        "  model.add(layers.Dropout(0.1))\n",
        "  model.add(layers.Dense(32, activation='relu'))\n",
        "  model.add(layers.Dense(32, activation='relu'))\n",
        "  model.add(layers.Dropout(0.2))\n",
        "  model.add(layers.Dense(8, activation='relu'))\n",
        "  model.add(layers.Dense(1, activation='sigmoid'))\n",
        "\n",
        "  model.compile(optimizer=tf.keras.optimizers.Adam(learning_rate=1e-4),\n",
        "                loss=tf.keras.losses.BinaryCrossentropy(),\n",
        "                metrics=[tf.keras.metrics.BinaryAccuracy(),])\n",
        "\n",
        "  history = model.fit(X_train, y_train, batch_size=200, epochs=20, validation_data=(X_val, y_val))\n",
        "\n",
        "  #predict\n",
        "  y_pred = model.predict(X_val)\n",
        "  y_pred = (y_pred > 0.5).astype('int32').flatten()\n",
        "  print('Accuracy: %f' % accuracy_score(y_val, y_pred))\n",
        "  print('f1-score: %f' % f1_score(y_val, y_pred))\n",
        "\n",
        "  # plot lost curve\n",
        "  plt.plot(history.history['loss'], label='loss')\n",
        "  # plt.plot(history.history['val_loss'], label='val_loss')\n",
        "  plt.xlabel('Epoch')\n",
        "  plt.ylabel('Loss')\n",
        "  plt.ylim([0, 1])\n",
        "  plt.legend(loc='lower right')\n",
        "\n",
        "  ans_pred = model.predict(X_test)\n",
        "  ans_pred = (ans_pred > 0.5).astype('int32').flatten()\n",
        "  df_sap = pd.DataFrame(ans_pred.astype(int), columns = ['Weather'])\n",
        "  df_sap.to_csv('NN.csv',  index_label = 'Id')"
      ]
    }
  ],
  "metadata": {
    "kernelspec": {
      "display_name": "Python 3",
      "language": "python",
      "name": "python3"
    },
    "language_info": {
      "codemirror_mode": {
        "name": "ipython",
        "version": 3
      },
      "file_extension": ".py",
      "mimetype": "text/x-python",
      "name": "python",
      "nbconvert_exporter": "python",
      "pygments_lexer": "ipython3",
      "version": "3.10.11"
    },
    "colab": {
      "provenance": []
    },
    "accelerator": "GPU",
    "gpuClass": "standard"
  },
  "nbformat": 4,
  "nbformat_minor": 0
}