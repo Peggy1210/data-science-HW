{
 "cells": [
  {
   "cell_type": "code",
   "execution_count": 5,
   "metadata": {},
   "outputs": [],
   "source": [
    "import pandas as pd\n",
    "import numpy as np\n",
    "# import matplotlib.pyplot as plt"
   ]
  },
  {
   "attachments": {},
   "cell_type": "markdown",
   "metadata": {},
   "source": [
    "# Read Data"
   ]
  },
  {
   "cell_type": "code",
   "execution_count": 6,
   "metadata": {},
   "outputs": [],
   "source": [
    "# 為了處理方便，把 'train.csv' 和 'test.csv' 合併起來，'test.csv'的 Weather 欄位用 0 補起來。\n",
    "train_dataset = pd.read_csv('train.csv')\n",
    "test_dataset = pd.read_csv('test.csv')\n",
    "test_dataset['Weather'] = np.zeros((len(test_dataset),))\n",
    "\n",
    "# 以 train_end_idx 作為 'train.csv' 和 'test.csv' 分界列，\n",
    "train_end_idx = len(train_dataset)\n",
    "df = pd.concat([train_dataset, test_dataset], sort=False)"
   ]
  },
  {
   "attachments": {},
   "cell_type": "markdown",
   "metadata": {},
   "source": [
    "# Preprocessing"
   ]
  },
  {
   "cell_type": "code",
   "execution_count": 7,
   "metadata": {},
   "outputs": [],
   "source": [
    "# features that we don't want\n",
    "drop_list = ['Date'] # drop_list = ['Weather', 'Date', 'Loc', 'WindDir', 'DayWindDir', 'NightWindDir']\n",
    "X_train, y_train = df.drop(columns=['Weather']).drop(columns=drop_list), df['Weather']"
   ]
  },
  {
   "cell_type": "code",
   "execution_count": 8,
   "metadata": {},
   "outputs": [],
   "source": [
    "columns = X_train.columns\n",
    "string_list = [col for col in columns if X_train[col].dtype == 'object']\n",
    "\n",
    "categorical_list = string_list.copy()\n",
    "categorical_list.append('DayCloud')\n",
    "categorical_list.append('NightCloud')\n",
    "\n",
    "numeric_list = [col for col in columns if col not in categorical_list]"
   ]
  },
  {
   "cell_type": "code",
   "execution_count": 9,
   "metadata": {},
   "outputs": [
    {
     "data": {
      "text/plain": [
       "Index(['Loc', 'TempLow', 'TempHigh', 'Steaming', 'Sun', 'WindDir', 'WindSpeed',\n",
       "       'DayWindDir', 'NightWindDir', 'DayWindSpeed', 'NightWindSpeed',\n",
       "       'DayHumidity', 'NightHumidity', 'DayPressure', 'NightPressure',\n",
       "       'DayCloud', 'NightCloud', 'DayTemp', 'NightTemp', 'RISK_MM'],\n",
       "      dtype='object')"
      ]
     },
     "execution_count": 9,
     "metadata": {},
     "output_type": "execute_result"
    }
   ],
   "source": [
    "columns"
   ]
  },
  {
   "cell_type": "markdown",
   "metadata": {},
   "source": [
    "0:'Loc'\n",
    "1:'TempLow'\n",
    "2:'TempHigh'\n",
    "3:'Steaming'\n",
    "4:'Sun'\n",
    "5:'WindDir'\n",
    "6:'WindSpeed'\n",
    "7:'DayWindDir'\n",
    "8:'NightWindDir'\n",
    "9:'DayWindSpeed'\n",
    "10:'NightWindSpeed'\n",
    "11:'DayHumidity'\n",
    "12:'NightHumidity'\n",
    "13:'DayPressure'\n",
    "14:'NightPressure'\n",
    "15:'DayCloud'\n",
    "16:'NightCloud'\n",
    "17:'DayTemp'\n",
    "18:'NightTemp'\n",
    "19:'RISK_MM'"
   ]
  },
  {
   "cell_type": "code",
   "execution_count": 10,
   "metadata": {},
   "outputs": [],
   "source": [
    "# fig, axes = plt.subplots(nrows=4, ncols=4, figsize=(15,15))\n",
    "# plt.suptitle(\"Correlations\", fontsize=20)\n",
    "\n",
    "# count = 0\n",
    "# col = 0\n",
    "# for i in range(4):\n",
    "#     for j in range(4):\n",
    "#         axes[i,j].scatter(X_train[y_train==1][numeric_list[col]],X_train[y_train==1][numeric_list[count]],color=[\"crimson\"],s=50,alpha=0.8,label='1')\n",
    "#         axes[i,j].scatter(X_train[y_train==0][numeric_list[col]],X_train[y_train==0][numeric_list[count]],color=[\"chartreuse\"],s=20,label=\"0\")\n",
    "#         axes[i,j].set_xlabel(numeric_list[col])\n",
    "#         axes[i,j].set_ylabel(numeric_list[count])\n",
    "#         axes[i,j].legend(prop={'size': 10},loc=\"lower left\") #圖例setting\n",
    "#         col += 1"
   ]
  },
  {
   "cell_type": "code",
   "execution_count": 11,
   "metadata": {},
   "outputs": [],
   "source": [
    "# length = len(X_train)\n",
    "\n",
    "# for i in range(length):\n",
    "#     if pd.isna(X_train.iloc[i,5]):\n",
    "#         if not pd.isna(X_train.iloc[i,7]):\n",
    "#             X_train.iloc[i,5] = X_train.iloc[i,7]\n",
    "#         elif not pd.isna(X_train.iloc[i,8]):\n",
    "#             X_train.iloc[i,5] = X_train.iloc[i,8]\n",
    "#     if pd.isna(X_train.iloc[i,7]):\n",
    "#         if not pd.isna(X_train.iloc[i,5]):\n",
    "#             X_train.iloc[i,7] = X_train.iloc[i,5]\n",
    "#         elif not pd.isna(X_train.iloc[i,8]):\n",
    "#             X_train.iloc[i,7] = X_train.iloc[i,8]\n",
    "#     if pd.isna(X_train.iloc[i,8]):\n",
    "#         if not pd.isna(X_train.iloc[i,5]):\n",
    "#             X_train.iloc[i,8] = X_train.iloc[i,5]\n",
    "#         elif not pd.isna(X_train.iloc[i,7]):\n",
    "#             X_train.iloc[i,8] = X_train.iloc[i,7]\n",
    "\n",
    "#     if pd.isna(X_train.iloc[i,1]):\n",
    "#         X_train.iloc[i,1] = \n",
    "#     if pd.isna(X_train.iloc[i,7]):\n",
    "#         if not pd.isna(X_train.iloc[i,5]):\n",
    "#             X_train.iloc[i,7] = X_train.iloc[i,5]"
   ]
  },
  {
   "cell_type": "code",
   "execution_count": 12,
   "metadata": {},
   "outputs": [
    {
     "data": {
      "text/plain": [
       "17389"
      ]
     },
     "execution_count": 12,
     "metadata": {},
     "output_type": "execute_result"
    }
   ],
   "source": [
    "X_train['WindDir'].isna().sum()"
   ]
  },
  {
   "cell_type": "code",
   "execution_count": 13,
   "metadata": {},
   "outputs": [],
   "source": [
    "# Handle missing values\n",
    "# df = df.fillna(0)\n",
    "X_train['WindDir'] = X_train['WindDir'].fillna(X_train['DayWindDir'])\n",
    "X_train['DayWindDir'] = X_train['DayWindDir'].fillna(X_train['WindDir'])\n",
    "X_train['NightWindDir'] = X_train['NightWindDir'].fillna(X_train['WindDir'])\n",
    "\n",
    "X_train['WindSpeed'] = X_train['WindSpeed'].fillna(X_train['DayWindSpeed'])\n",
    "X_train['DayWindSpeed'] = X_train['DayWindSpeed'].fillna(X_train['WindSpeed'])\n",
    "X_train['NightWindSpeed'] = X_train['NightWindSpeed'].fillna(X_train['WindSpeed'])\n",
    "\n",
    "X_train['TempLow'] = X_train['TempLow'].fillna(X_train['DayTemp'])\n",
    "X_train['TempHigh'] = X_train['TempHigh'].fillna(X_train['NightTemp'])\n",
    "X_train['DayTemp'] = X_train['DayTemp'].fillna(X_train['TempHigh'])\n",
    "X_train['NightTemp'] = X_train['NightTemp'].fillna(X_train['TempHigh'])\n",
    "\n",
    "X_train['DayPressure'] = X_train['DayPressure'].fillna(X_train['NightPressure'])\n",
    "X_train['NightPressure'] = X_train['NightPressure'].fillna(X_train['NightPressure'])\n",
    "\n",
    "for d in string_list:\n",
    "    X_train[d] = X_train[d].fillna('Unknown')"
   ]
  },
  {
   "cell_type": "code",
   "execution_count": 14,
   "metadata": {},
   "outputs": [],
   "source": [
    "from sklearn.preprocessing import LabelEncoder\n",
    "\n",
    "for d in string_list:\n",
    "    labelEncoder = LabelEncoder()\n",
    "    labelEncoder.fit(X_train[d])\n",
    "    X_train[d] = labelEncoder.transform(X_train[d]).astype(float)\n"
   ]
  },
  {
   "cell_type": "code",
   "execution_count": 15,
   "metadata": {},
   "outputs": [],
   "source": [
    "mean = X_train.mean()\n",
    "X_train = X_train.fillna(mean)"
   ]
  },
  {
   "cell_type": "code",
   "execution_count": 16,
   "metadata": {},
   "outputs": [],
   "source": [
    "# one-hot encoding\n",
    "# for d in categorical:\n",
    "#     X_train.drop(columns=d)\n",
    "#     X_train = X_train.join(pd.get_dummies(X_train[d]))\n",
    "X_train = pd.get_dummies(data=X_train, columns=categorical_list)\n",
    "# X_train"
   ]
  },
  {
   "cell_type": "code",
   "execution_count": 17,
   "metadata": {},
   "outputs": [
    {
     "data": {
      "text/html": [
       "<div>\n",
       "<style scoped>\n",
       "    .dataframe tbody tr th:only-of-type {\n",
       "        vertical-align: middle;\n",
       "    }\n",
       "\n",
       "    .dataframe tbody tr th {\n",
       "        vertical-align: top;\n",
       "    }\n",
       "\n",
       "    .dataframe thead th {\n",
       "        text-align: right;\n",
       "    }\n",
       "</style>\n",
       "<table border=\"1\" class=\"dataframe\">\n",
       "  <thead>\n",
       "    <tr style=\"text-align: right;\">\n",
       "      <th></th>\n",
       "      <th>TempLow</th>\n",
       "      <th>TempHigh</th>\n",
       "      <th>Steaming</th>\n",
       "      <th>Sun</th>\n",
       "      <th>WindSpeed</th>\n",
       "      <th>DayWindSpeed</th>\n",
       "      <th>NightWindSpeed</th>\n",
       "      <th>DayHumidity</th>\n",
       "      <th>NightHumidity</th>\n",
       "      <th>DayPressure</th>\n",
       "      <th>...</th>\n",
       "      <th>NightCloud_2.0</th>\n",
       "      <th>NightCloud_3.0</th>\n",
       "      <th>NightCloud_4.0</th>\n",
       "      <th>NightCloud_4.27812027</th>\n",
       "      <th>NightCloud_4.278214514770263</th>\n",
       "      <th>NightCloud_5.0</th>\n",
       "      <th>NightCloud_6.0</th>\n",
       "      <th>NightCloud_7.0</th>\n",
       "      <th>NightCloud_8.0</th>\n",
       "      <th>NightCloud_9.0</th>\n",
       "    </tr>\n",
       "  </thead>\n",
       "  <tbody>\n",
       "    <tr>\n",
       "      <th>0</th>\n",
       "      <td>19.5</td>\n",
       "      <td>19.600000</td>\n",
       "      <td>5.694960</td>\n",
       "      <td>0.500000</td>\n",
       "      <td>61.0</td>\n",
       "      <td>31.0</td>\n",
       "      <td>22.0</td>\n",
       "      <td>86.641375</td>\n",
       "      <td>41.810006</td>\n",
       "      <td>1020.4</td>\n",
       "      <td>...</td>\n",
       "      <td>0</td>\n",
       "      <td>0</td>\n",
       "      <td>0</td>\n",
       "      <td>0</td>\n",
       "      <td>0</td>\n",
       "      <td>0</td>\n",
       "      <td>0</td>\n",
       "      <td>1</td>\n",
       "      <td>0</td>\n",
       "      <td>0</td>\n",
       "    </tr>\n",
       "    <tr>\n",
       "      <th>1</th>\n",
       "      <td>2.1</td>\n",
       "      <td>15.700000</td>\n",
       "      <td>5.701668</td>\n",
       "      <td>5.700000</td>\n",
       "      <td>26.0</td>\n",
       "      <td>9.0</td>\n",
       "      <td>7.0</td>\n",
       "      <td>53.275715</td>\n",
       "      <td>76.598048</td>\n",
       "      <td>1023.7</td>\n",
       "      <td>...</td>\n",
       "      <td>0</td>\n",
       "      <td>0</td>\n",
       "      <td>0</td>\n",
       "      <td>0</td>\n",
       "      <td>0</td>\n",
       "      <td>0</td>\n",
       "      <td>0</td>\n",
       "      <td>0</td>\n",
       "      <td>0</td>\n",
       "      <td>0</td>\n",
       "    </tr>\n",
       "    <tr>\n",
       "      <th>2</th>\n",
       "      <td>20.9</td>\n",
       "      <td>36.100000</td>\n",
       "      <td>5.694960</td>\n",
       "      <td>8.003251</td>\n",
       "      <td>39.0</td>\n",
       "      <td>31.0</td>\n",
       "      <td>17.0</td>\n",
       "      <td>15.471574</td>\n",
       "      <td>52.163254</td>\n",
       "      <td>1017.1</td>\n",
       "      <td>...</td>\n",
       "      <td>0</td>\n",
       "      <td>0</td>\n",
       "      <td>0</td>\n",
       "      <td>1</td>\n",
       "      <td>0</td>\n",
       "      <td>0</td>\n",
       "      <td>0</td>\n",
       "      <td>0</td>\n",
       "      <td>0</td>\n",
       "      <td>0</td>\n",
       "    </tr>\n",
       "    <tr>\n",
       "      <th>3</th>\n",
       "      <td>11.5</td>\n",
       "      <td>23.900000</td>\n",
       "      <td>5.694960</td>\n",
       "      <td>7.993227</td>\n",
       "      <td>35.0</td>\n",
       "      <td>7.0</td>\n",
       "      <td>17.0</td>\n",
       "      <td>46.442398</td>\n",
       "      <td>67.664733</td>\n",
       "      <td>1010.2</td>\n",
       "      <td>...</td>\n",
       "      <td>0</td>\n",
       "      <td>0</td>\n",
       "      <td>0</td>\n",
       "      <td>1</td>\n",
       "      <td>0</td>\n",
       "      <td>0</td>\n",
       "      <td>0</td>\n",
       "      <td>0</td>\n",
       "      <td>0</td>\n",
       "      <td>0</td>\n",
       "    </tr>\n",
       "    <tr>\n",
       "      <th>4</th>\n",
       "      <td>8.2</td>\n",
       "      <td>20.500000</td>\n",
       "      <td>3.200000</td>\n",
       "      <td>8.003251</td>\n",
       "      <td>69.0</td>\n",
       "      <td>69.0</td>\n",
       "      <td>69.0</td>\n",
       "      <td>51.830889</td>\n",
       "      <td>51.770240</td>\n",
       "      <td>1001.2</td>\n",
       "      <td>...</td>\n",
       "      <td>0</td>\n",
       "      <td>0</td>\n",
       "      <td>0</td>\n",
       "      <td>0</td>\n",
       "      <td>0</td>\n",
       "      <td>0</td>\n",
       "      <td>0</td>\n",
       "      <td>1</td>\n",
       "      <td>0</td>\n",
       "      <td>0</td>\n",
       "    </tr>\n",
       "    <tr>\n",
       "      <th>...</th>\n",
       "      <td>...</td>\n",
       "      <td>...</td>\n",
       "      <td>...</td>\n",
       "      <td>...</td>\n",
       "      <td>...</td>\n",
       "      <td>...</td>\n",
       "      <td>...</td>\n",
       "      <td>...</td>\n",
       "      <td>...</td>\n",
       "      <td>...</td>\n",
       "      <td>...</td>\n",
       "      <td>...</td>\n",
       "      <td>...</td>\n",
       "      <td>...</td>\n",
       "      <td>...</td>\n",
       "      <td>...</td>\n",
       "      <td>...</td>\n",
       "      <td>...</td>\n",
       "      <td>...</td>\n",
       "      <td>...</td>\n",
       "      <td>...</td>\n",
       "    </tr>\n",
       "    <tr>\n",
       "      <th>34839</th>\n",
       "      <td>9.6</td>\n",
       "      <td>21.500000</td>\n",
       "      <td>8.000000</td>\n",
       "      <td>12.000000</td>\n",
       "      <td>31.0</td>\n",
       "      <td>17.0</td>\n",
       "      <td>9.0</td>\n",
       "      <td>39.878487</td>\n",
       "      <td>57.490952</td>\n",
       "      <td>1024.5</td>\n",
       "      <td>...</td>\n",
       "      <td>0</td>\n",
       "      <td>0</td>\n",
       "      <td>0</td>\n",
       "      <td>0</td>\n",
       "      <td>0</td>\n",
       "      <td>0</td>\n",
       "      <td>1</td>\n",
       "      <td>0</td>\n",
       "      <td>0</td>\n",
       "      <td>0</td>\n",
       "    </tr>\n",
       "    <tr>\n",
       "      <th>34840</th>\n",
       "      <td>11.6</td>\n",
       "      <td>31.400000</td>\n",
       "      <td>5.694960</td>\n",
       "      <td>7.993227</td>\n",
       "      <td>39.0</td>\n",
       "      <td>7.0</td>\n",
       "      <td>39.0</td>\n",
       "      <td>51.902205</td>\n",
       "      <td>70.743790</td>\n",
       "      <td>1019.1</td>\n",
       "      <td>...</td>\n",
       "      <td>0</td>\n",
       "      <td>0</td>\n",
       "      <td>0</td>\n",
       "      <td>1</td>\n",
       "      <td>0</td>\n",
       "      <td>0</td>\n",
       "      <td>0</td>\n",
       "      <td>0</td>\n",
       "      <td>0</td>\n",
       "      <td>0</td>\n",
       "    </tr>\n",
       "    <tr>\n",
       "      <th>34841</th>\n",
       "      <td>22.2</td>\n",
       "      <td>34.500000</td>\n",
       "      <td>5.701668</td>\n",
       "      <td>7.600000</td>\n",
       "      <td>39.0</td>\n",
       "      <td>26.0</td>\n",
       "      <td>39.0</td>\n",
       "      <td>30.743840</td>\n",
       "      <td>64.412890</td>\n",
       "      <td>1008.5</td>\n",
       "      <td>...</td>\n",
       "      <td>0</td>\n",
       "      <td>0</td>\n",
       "      <td>0</td>\n",
       "      <td>0</td>\n",
       "      <td>0</td>\n",
       "      <td>0</td>\n",
       "      <td>0</td>\n",
       "      <td>1</td>\n",
       "      <td>0</td>\n",
       "      <td>0</td>\n",
       "    </tr>\n",
       "    <tr>\n",
       "      <th>34842</th>\n",
       "      <td>16.4</td>\n",
       "      <td>43.500000</td>\n",
       "      <td>7.000000</td>\n",
       "      <td>12.700000</td>\n",
       "      <td>43.0</td>\n",
       "      <td>19.0</td>\n",
       "      <td>19.0</td>\n",
       "      <td>28.084916</td>\n",
       "      <td>63.565166</td>\n",
       "      <td>1014.2</td>\n",
       "      <td>...</td>\n",
       "      <td>0</td>\n",
       "      <td>0</td>\n",
       "      <td>0</td>\n",
       "      <td>1</td>\n",
       "      <td>0</td>\n",
       "      <td>0</td>\n",
       "      <td>0</td>\n",
       "      <td>0</td>\n",
       "      <td>0</td>\n",
       "      <td>0</td>\n",
       "    </tr>\n",
       "    <tr>\n",
       "      <th>34843</th>\n",
       "      <td>6.9</td>\n",
       "      <td>23.480944</td>\n",
       "      <td>6.600000</td>\n",
       "      <td>10.600000</td>\n",
       "      <td>13.0</td>\n",
       "      <td>13.0</td>\n",
       "      <td>19.0</td>\n",
       "      <td>30.948435</td>\n",
       "      <td>56.550825</td>\n",
       "      <td>1017.8</td>\n",
       "      <td>...</td>\n",
       "      <td>0</td>\n",
       "      <td>0</td>\n",
       "      <td>0</td>\n",
       "      <td>1</td>\n",
       "      <td>0</td>\n",
       "      <td>0</td>\n",
       "      <td>0</td>\n",
       "      <td>0</td>\n",
       "      <td>0</td>\n",
       "      <td>0</td>\n",
       "    </tr>\n",
       "  </tbody>\n",
       "</table>\n",
       "<p>70000 rows × 139 columns</p>\n",
       "</div>"
      ],
      "text/plain": [
       "       TempLow   TempHigh  Steaming        Sun  WindSpeed  DayWindSpeed  \\\n",
       "0         19.5  19.600000  5.694960   0.500000       61.0          31.0   \n",
       "1          2.1  15.700000  5.701668   5.700000       26.0           9.0   \n",
       "2         20.9  36.100000  5.694960   8.003251       39.0          31.0   \n",
       "3         11.5  23.900000  5.694960   7.993227       35.0           7.0   \n",
       "4          8.2  20.500000  3.200000   8.003251       69.0          69.0   \n",
       "...        ...        ...       ...        ...        ...           ...   \n",
       "34839      9.6  21.500000  8.000000  12.000000       31.0          17.0   \n",
       "34840     11.6  31.400000  5.694960   7.993227       39.0           7.0   \n",
       "34841     22.2  34.500000  5.701668   7.600000       39.0          26.0   \n",
       "34842     16.4  43.500000  7.000000  12.700000       43.0          19.0   \n",
       "34843      6.9  23.480944  6.600000  10.600000       13.0          13.0   \n",
       "\n",
       "       NightWindSpeed  DayHumidity  NightHumidity  DayPressure  ...  \\\n",
       "0                22.0    86.641375      41.810006       1020.4  ...   \n",
       "1                 7.0    53.275715      76.598048       1023.7  ...   \n",
       "2                17.0    15.471574      52.163254       1017.1  ...   \n",
       "3                17.0    46.442398      67.664733       1010.2  ...   \n",
       "4                69.0    51.830889      51.770240       1001.2  ...   \n",
       "...               ...          ...            ...          ...  ...   \n",
       "34839             9.0    39.878487      57.490952       1024.5  ...   \n",
       "34840            39.0    51.902205      70.743790       1019.1  ...   \n",
       "34841            39.0    30.743840      64.412890       1008.5  ...   \n",
       "34842            19.0    28.084916      63.565166       1014.2  ...   \n",
       "34843            19.0    30.948435      56.550825       1017.8  ...   \n",
       "\n",
       "       NightCloud_2.0  NightCloud_3.0  NightCloud_4.0  NightCloud_4.27812027  \\\n",
       "0                   0               0               0                      0   \n",
       "1                   0               0               0                      0   \n",
       "2                   0               0               0                      1   \n",
       "3                   0               0               0                      1   \n",
       "4                   0               0               0                      0   \n",
       "...               ...             ...             ...                    ...   \n",
       "34839               0               0               0                      0   \n",
       "34840               0               0               0                      1   \n",
       "34841               0               0               0                      0   \n",
       "34842               0               0               0                      1   \n",
       "34843               0               0               0                      1   \n",
       "\n",
       "       NightCloud_4.278214514770263  NightCloud_5.0  NightCloud_6.0  \\\n",
       "0                                 0               0               0   \n",
       "1                                 0               0               0   \n",
       "2                                 0               0               0   \n",
       "3                                 0               0               0   \n",
       "4                                 0               0               0   \n",
       "...                             ...             ...             ...   \n",
       "34839                             0               0               1   \n",
       "34840                             0               0               0   \n",
       "34841                             0               0               0   \n",
       "34842                             0               0               0   \n",
       "34843                             0               0               0   \n",
       "\n",
       "       NightCloud_7.0  NightCloud_8.0  NightCloud_9.0  \n",
       "0                   1               0               0  \n",
       "1                   0               0               0  \n",
       "2                   0               0               0  \n",
       "3                   0               0               0  \n",
       "4                   1               0               0  \n",
       "...               ...             ...             ...  \n",
       "34839               0               0               0  \n",
       "34840               0               0               0  \n",
       "34841               1               0               0  \n",
       "34842               0               0               0  \n",
       "34843               0               0               0  \n",
       "\n",
       "[70000 rows x 139 columns]"
      ]
     },
     "execution_count": 17,
     "metadata": {},
     "output_type": "execute_result"
    }
   ],
   "source": [
    "X_train"
   ]
  },
  {
   "attachments": {},
   "cell_type": "markdown",
   "metadata": {},
   "source": [
    "# Split Data"
   ]
  },
  {
   "cell_type": "code",
   "execution_count": 18,
   "metadata": {},
   "outputs": [],
   "source": [
    "from sklearn.model_selection import train_test_split\n",
    "\n",
    "X_col = X_train.columns\n",
    "\n",
    "# Split data\n",
    "X_test = X_train.values[train_end_idx:, :]\n",
    "X_train, X_val, y_train, y_val = train_test_split(X_train.values[:train_end_idx], y_train.values[:train_end_idx], test_size=0.2)\n",
    "\n",
    "X_train = pd.DataFrame(data=X_train, columns=X_col)\n",
    "X_val = pd.DataFrame(data=X_val, columns=X_col)\n",
    "X_test = pd.DataFrame(data=X_test, columns=X_col)"
   ]
  },
  {
   "attachments": {},
   "cell_type": "markdown",
   "metadata": {},
   "source": [
    "# Over-Sampling"
   ]
  },
  {
   "cell_type": "code",
   "execution_count": 19,
   "metadata": {},
   "outputs": [
    {
     "name": "stdout",
     "output_type": "stream",
     "text": [
      "(array([0., 1.]), array([25135,  2989], dtype=int64))\n",
      "(array([0., 1.]), array([25135, 25112], dtype=int64))\n"
     ]
    }
   ],
   "source": [
    "# print(y_train.value_counts())\n",
    "print(np.unique(y_train, return_counts=True))\n",
    "\n",
    "# Over sampling\n",
    "from imblearn.over_sampling import SMOTE\n",
    "X_train, y_train = SMOTE(random_state=42).fit_resample(X_train, y_train)\n",
    "\n",
    "# Under sampling\n",
    "from imblearn.under_sampling import TomekLinks\n",
    "X_train, y_train = TomekLinks().fit_resample(X_train, y_train)\n",
    "\n",
    "# print(y_train.value_counts())\n",
    "print(np.unique(y_train, return_counts=True))"
   ]
  },
  {
   "attachments": {},
   "cell_type": "markdown",
   "metadata": {},
   "source": [
    "# Normalization"
   ]
  },
  {
   "cell_type": "code",
   "execution_count": 20,
   "metadata": {},
   "outputs": [],
   "source": [
    "from sklearn.preprocessing import StandardScaler\n",
    "\n",
    "# Normalization\n",
    "features = X_train[numeric_list]\n",
    "scaler = StandardScaler().fit(features.values)\n",
    "features = scaler.transform(features.values)\n",
    "X_train[numeric_list] = features\n",
    "# X_train\n",
    "\n",
    "val_features = X_val[numeric_list]\n",
    "val_features = scaler.transform(val_features.values)\n",
    "X_val[numeric_list] = val_features\n",
    "# X_val\n",
    "\n",
    "test_features = X_test[numeric_list]\n",
    "test_features = scaler.transform(test_features.values)\n",
    "X_test[numeric_list] = test_features\n",
    "# X_test"
   ]
  },
  {
   "attachments": {},
   "cell_type": "markdown",
   "metadata": {},
   "source": [
    "# Dimension Reduction"
   ]
  },
  {
   "cell_type": "code",
   "execution_count": null,
   "metadata": {},
   "outputs": [],
   "source": [
    "# from sklearn.decomposition import PCA\n",
    "# pca = PCA(n_components=130)\n",
    "# pca.fit(X_train)\n",
    "# X_train = pca.transform(X_train)\n",
    "# X_val = pca.transform(X_val)\n",
    "# X_test = pca.transform(X_test)"
   ]
  },
  {
   "cell_type": "code",
   "execution_count": null,
   "metadata": {},
   "outputs": [
    {
     "data": {
      "text/plain": [
       "(50335, 139)"
      ]
     },
     "execution_count": 1247,
     "metadata": {},
     "output_type": "execute_result"
    }
   ],
   "source": [
    "X_train.shape"
   ]
  },
  {
   "cell_type": "code",
   "execution_count": null,
   "metadata": {},
   "outputs": [],
   "source": [
    "# from sklearn import preprocessing\n",
    "# X_train[numeric_list] = preprocessing.normalize(X_train[numeric_list])"
   ]
  },
  {
   "cell_type": "code",
   "execution_count": null,
   "metadata": {},
   "outputs": [],
   "source": [
    "# from sklearn.preprocessing import MinMaxScaler\n",
    "\n",
    "# # Normalization\n",
    "# standardScaler = StandardScaler()\n",
    "# standardScaler.fit(X_train)\n",
    "# X_train = standardScaler.transform(X_train)"
   ]
  },
  {
   "cell_type": "markdown",
   "metadata": {},
   "source": [
    "# train"
   ]
  },
  {
   "cell_type": "code",
   "execution_count": 21,
   "metadata": {},
   "outputs": [],
   "source": [
    "from sklearn.metrics import accuracy_score, f1_score"
   ]
  },
  {
   "cell_type": "code",
   "execution_count": 22,
   "metadata": {},
   "outputs": [
    {
     "name": "stdout",
     "output_type": "stream",
     "text": [
      "Accuracy: 0.838595\n",
      "f1-score: 0.252798\n"
     ]
    }
   ],
   "source": [
    "from sklearn.tree import DecisionTreeClassifier\n",
    "\n",
    "#train tree model\n",
    "model = DecisionTreeClassifier()\n",
    "model.fit(X_train, y_train)\n",
    "\n",
    "#predict\n",
    "y_pred = model.predict(X_val)\n",
    "print('Accuracy: %f' % accuracy_score(y_val, y_pred))\n",
    "print('f1-score: %f' % f1_score(y_val, y_pred))"
   ]
  },
  {
   "cell_type": "code",
   "execution_count": 23,
   "metadata": {},
   "outputs": [
    {
     "name": "stdout",
     "output_type": "stream",
     "text": [
      "Accuracy: 0.625853\n",
      "f1-score: 0.293691\n"
     ]
    }
   ],
   "source": [
    "from sklearn.neighbors import KNeighborsClassifier\n",
    "\n",
    "#train tree model\n",
    "model = KNeighborsClassifier()\n",
    "model.fit(X_train, y_train)\n",
    "\n",
    "#predict\n",
    "y_pred = model.predict(X_val)\n",
    "print('Accuracy: %f' % accuracy_score(y_val, y_pred))\n",
    "print('f1-score: %f' % f1_score(y_val, y_pred))"
   ]
  },
  {
   "cell_type": "code",
   "execution_count": 31,
   "metadata": {},
   "outputs": [
    {
     "name": "stdout",
     "output_type": "stream",
     "text": [
      "Accuracy: 0.886661\n",
      "f1-score: 0.395754\n"
     ]
    }
   ],
   "source": [
    "from sklearn.svm import SVC\n",
    "\n",
    "# train tree \n",
    "model = SVC(kernel='rbf', C=2)\n",
    "model.fit(X_train, y_train)\n",
    "\n",
    "# predict\n",
    "y_pred = model.predict(X_val)\n",
    "print('Accuracy: %f' % accuracy_score(y_val, y_pred))\n",
    "print('f1-score: %f' % f1_score(y_val, y_pred))"
   ]
  },
  {
   "cell_type": "code",
   "execution_count": 24,
   "metadata": {},
   "outputs": [
    {
     "name": "stdout",
     "output_type": "stream",
     "text": [
      "Accuracy: 0.756399\n",
      "f1-score: 0.384919\n"
     ]
    }
   ],
   "source": [
    "from sklearn.linear_model import LogisticRegression\n",
    "\n",
    "#train tree model\n",
    "model = LogisticRegression(max_iter=1000)\n",
    "model.fit(X_train, y_train)\n",
    "\n",
    "#predict\n",
    "y_pred = model.predict(X_val)\n",
    "print('Accuracy: %f' % accuracy_score(y_val, y_pred))\n",
    "print('f1-score: %f' % f1_score(y_val, y_pred))"
   ]
  },
  {
   "cell_type": "code",
   "execution_count": 25,
   "metadata": {},
   "outputs": [
    {
     "name": "stdout",
     "output_type": "stream",
     "text": [
      "Accuracy: 0.906712\n",
      "f1-score: 0.165394\n"
     ]
    }
   ],
   "source": [
    "from sklearn.ensemble import RandomForestClassifier\n",
    "\n",
    "#train tree model\n",
    "model = RandomForestClassifier(criterion='entropy', n_estimators=200)\n",
    "model.fit(X_train, y_train)\n",
    "\n",
    "#predict\n",
    "y_pred = model.predict(X_val)\n",
    "print('Accuracy: %f' % accuracy_score(y_val, y_pred))\n",
    "print('f1-score: %f' % f1_score(y_val, y_pred))"
   ]
  },
  {
   "cell_type": "code",
   "execution_count": null,
   "metadata": {},
   "outputs": [
    {
     "name": "stdout",
     "output_type": "stream",
     "text": [
      "Accuracy: 0.828658\n",
      "f1-score: 0.363492\n"
     ]
    }
   ],
   "source": [
    "from sklearn.ensemble import AdaBoostClassifier\n",
    "\n",
    "#train tree model\n",
    "model = AdaBoostClassifier(n_estimators=100, learning_rate=0.7)\n",
    "model.fit(X_train, y_train)\n",
    "\n",
    "#predict\n",
    "y_pred = model.predict(X_val)\n",
    "print('Accuracy: %f' % accuracy_score(y_val, y_pred))\n",
    "print('f1-score: %f' % f1_score(y_val, y_pred))"
   ]
  },
  {
   "cell_type": "code",
   "execution_count": 26,
   "metadata": {},
   "outputs": [
    {
     "name": "stdout",
     "output_type": "stream",
     "text": [
      "Accuracy: 0.719710\n",
      "f1-score: 0.283533\n"
     ]
    }
   ],
   "source": [
    "from sklearn.naive_bayes import GaussianNB\n",
    "\n",
    "#train tree model\n",
    "model = GaussianNB()\n",
    "model.fit(X_train, y_train)\n",
    "\n",
    "#predict\n",
    "y_pred = model.predict(X_val)\n",
    "print('Accuracy: %f' % accuracy_score(y_val, y_pred))\n",
    "print('f1-score: %f' % f1_score(y_val, y_pred))"
   ]
  },
  {
   "cell_type": "code",
   "execution_count": 27,
   "metadata": {},
   "outputs": [
    {
     "name": "stdout",
     "output_type": "stream",
     "text": [
      "Accuracy: 0.839590\n",
      "f1-score: 0.326969\n"
     ]
    },
    {
     "name": "stderr",
     "output_type": "stream",
     "text": [
      "C:\\Users\\peggy\\AppData\\Local\\Packages\\PythonSoftwareFoundation.Python.3.10_qbz5n2kfra8p0\\LocalCache\\local-packages\\Python310\\site-packages\\sklearn\\neural_network\\_multilayer_perceptron.py:702: ConvergenceWarning: Stochastic Optimizer: Maximum iterations (200) reached and the optimization hasn't converged yet.\n",
      "  warnings.warn(\n"
     ]
    }
   ],
   "source": [
    "from sklearn.neural_network import MLPClassifier\n",
    "\n",
    "#train tree model\n",
    "model = MLPClassifier(hidden_layer_sizes=(32,16,5), activation='relu', solver='adam', batch_size=200, learning_rate_init=1e-3, max_iter=200)\n",
    "model.fit(X_train, y_train)\n",
    "\n",
    "#predict\n",
    "y_pred = model.predict(X_val)\n",
    "print('Accuracy: %f' % accuracy_score(y_val, y_pred))\n",
    "print('f1-score: %f' % f1_score(y_val, y_pred))"
   ]
  },
  {
   "cell_type": "code",
   "execution_count": 30,
   "metadata": {},
   "outputs": [
    {
     "name": "stdout",
     "output_type": "stream",
     "text": [
      "Epoch 1/20\n",
      "252/252 [==============================] - 4s 11ms/step - loss: 0.5093 - binary_accuracy: 0.7485 - val_loss: 0.4466 - val_binary_accuracy: 0.7676\n",
      "Epoch 2/20\n",
      "252/252 [==============================] - 2s 8ms/step - loss: 0.4031 - binary_accuracy: 0.8203 - val_loss: 0.3691 - val_binary_accuracy: 0.8238\n",
      "Epoch 3/20\n",
      "252/252 [==============================] - 2s 8ms/step - loss: 0.3293 - binary_accuracy: 0.8613 - val_loss: 0.3436 - val_binary_accuracy: 0.8422\n",
      "Epoch 4/20\n",
      "252/252 [==============================] - 2s 9ms/step - loss: 0.2647 - binary_accuracy: 0.8936 - val_loss: 0.3212 - val_binary_accuracy: 0.8599\n",
      "Epoch 5/20\n",
      "252/252 [==============================] - 2s 8ms/step - loss: 0.2194 - binary_accuracy: 0.9127 - val_loss: 0.3378 - val_binary_accuracy: 0.8589\n",
      "Epoch 6/20\n",
      "252/252 [==============================] - 2s 7ms/step - loss: 0.1893 - binary_accuracy: 0.9263 - val_loss: 0.3468 - val_binary_accuracy: 0.8599\n",
      "Epoch 7/20\n",
      "252/252 [==============================] - 3s 11ms/step - loss: 0.1660 - binary_accuracy: 0.9344 - val_loss: 0.3636 - val_binary_accuracy: 0.8618\n",
      "Epoch 8/20\n",
      "252/252 [==============================] - 2s 8ms/step - loss: 0.1489 - binary_accuracy: 0.9418 - val_loss: 0.3705 - val_binary_accuracy: 0.8648\n",
      "Epoch 9/20\n",
      "252/252 [==============================] - 2s 8ms/step - loss: 0.1345 - binary_accuracy: 0.9474 - val_loss: 0.3851 - val_binary_accuracy: 0.8629\n",
      "Epoch 10/20\n",
      "252/252 [==============================] - 2s 9ms/step - loss: 0.1207 - binary_accuracy: 0.9533 - val_loss: 0.3905 - val_binary_accuracy: 0.8699\n",
      "Epoch 11/20\n",
      "252/252 [==============================] - 2s 9ms/step - loss: 0.1117 - binary_accuracy: 0.9573 - val_loss: 0.4060 - val_binary_accuracy: 0.8741\n",
      "Epoch 12/20\n",
      "252/252 [==============================] - 3s 13ms/step - loss: 0.1029 - binary_accuracy: 0.9611 - val_loss: 0.4217 - val_binary_accuracy: 0.8710\n",
      "Epoch 13/20\n",
      "252/252 [==============================] - 4s 15ms/step - loss: 0.0958 - binary_accuracy: 0.9637 - val_loss: 0.4490 - val_binary_accuracy: 0.8552\n",
      "Epoch 14/20\n",
      "252/252 [==============================] - 3s 11ms/step - loss: 0.0864 - binary_accuracy: 0.9674 - val_loss: 0.4743 - val_binary_accuracy: 0.8611\n",
      "Epoch 15/20\n",
      "252/252 [==============================] - 2s 9ms/step - loss: 0.0797 - binary_accuracy: 0.9699 - val_loss: 0.4690 - val_binary_accuracy: 0.8805\n",
      "Epoch 16/20\n",
      "252/252 [==============================] - 3s 10ms/step - loss: 0.0750 - binary_accuracy: 0.9710 - val_loss: 0.4969 - val_binary_accuracy: 0.8682\n",
      "Epoch 17/20\n",
      "252/252 [==============================] - 2s 9ms/step - loss: 0.0706 - binary_accuracy: 0.9732 - val_loss: 0.5066 - val_binary_accuracy: 0.8650\n",
      "Epoch 18/20\n",
      "252/252 [==============================] - 2s 9ms/step - loss: 0.0655 - binary_accuracy: 0.9760 - val_loss: 0.5195 - val_binary_accuracy: 0.8713\n",
      "Epoch 19/20\n",
      "252/252 [==============================] - 2s 8ms/step - loss: 0.0598 - binary_accuracy: 0.9782 - val_loss: 0.5374 - val_binary_accuracy: 0.8741\n",
      "Epoch 20/20\n",
      "252/252 [==============================] - 2s 8ms/step - loss: 0.0588 - binary_accuracy: 0.9770 - val_loss: 0.5544 - val_binary_accuracy: 0.8702\n",
      "220/220 [==============================] - 1s 5ms/step\n",
      "Accuracy: 0.870165\n",
      "f1-score: 0.343638\n"
     ]
    }
   ],
   "source": [
    "import tensorflow as tf\n",
    "from tensorflow.keras import layers, models\n",
    "\n",
    "model = models.Sequential()\n",
    "model.add(layers.Dense(128, activation='relu'))\n",
    "# model.add(layers.Dense(64, activation='relu'))\n",
    "model.add(layers.Dense(32, activation='relu'))\n",
    "model.add(layers.Dropout(0.1))\n",
    "model.add(layers.Dense(5, activation='relu'))\n",
    "model.add(layers.Dense(1, activation='sigmoid'))\n",
    "\n",
    "model.compile(optimizer=tf.keras.optimizers.Adam(learning_rate=1e-4),\n",
    "              loss=tf.keras.losses.BinaryCrossentropy(),\n",
    "              metrics=[tf.keras.metrics.BinaryAccuracy(),])\n",
    "\n",
    "history = model.fit(X_train, y_train, batch_size=200, epochs=20, validation_data=(X_val, y_val))\n",
    "\n",
    "#predict\n",
    "y_pred = model.predict(X_val)\n",
    "y_pred = (y_pred > 0.5).astype('int32').flatten()\n",
    "print('Accuracy: %f' % accuracy_score(y_val, y_pred))\n",
    "print('f1-score: %f' % f1_score(y_val, y_pred))"
   ]
  },
  {
   "cell_type": "code",
   "execution_count": 1083,
   "metadata": {},
   "outputs": [
    {
     "name": "stdout",
     "output_type": "stream",
     "text": [
      "220/220 [==============================] - 1s 3ms/step\n",
      "Accuracy: 0.863197\n",
      "f1-score: 0.380952\n"
     ]
    }
   ],
   "source": [
    "#predict\n",
    "y_pred = model.predict(X_val)\n",
    "y_pred = (y_pred > 0.5).astype('int32').flatten()\n",
    "print('Accuracy: %f' % accuracy_score(y_val, y_pred))\n",
    "print('f1-score: %f' % f1_score(y_val, y_pred))"
   ]
  },
  {
   "cell_type": "code",
   "execution_count": 1011,
   "metadata": {},
   "outputs": [
    {
     "data": {
      "text/plain": [
       "<matplotlib.legend.Legend at 0x20d8b195960>"
      ]
     },
     "execution_count": 1011,
     "metadata": {},
     "output_type": "execute_result"
    },
    {
     "data": {
      "image/png": "[encoded data removed]",
      "text/plain": [
       "<Figure size 640x480 with 1 Axes>"
      ]
     },
     "metadata": {},
     "output_type": "display_data"
    }
   ],
   "source": [
    "# plot lost curve\n",
    "plt.plot(history.history['loss'], label='loss')\n",
    "# plt.plot(history.history['val_loss'], label='val_loss')\n",
    "plt.xlabel('Epoch')\n",
    "plt.ylabel('Loss')\n",
    "plt.ylim([0, 1])\n",
    "plt.legend(loc='lower right')"
   ]
  },
  {
   "cell_type": "code",
   "execution_count": 33,
   "metadata": {},
   "outputs": [],
   "source": [
    "ans_pred = model.predict(X_test)\n",
    "# ans_pred = (ans_pred > 0.5).astype('int32').flatten()\n",
    "df_sap = pd.DataFrame(ans_pred.astype(int), columns = ['Weather'])\n",
    "df_sap.to_csv('myAns.csv',  index_label = 'Id')"
   ]
  },
  {
   "cell_type": "code",
   "execution_count": null,
   "metadata": {},
   "outputs": [],
   "source": []
  }
 ],
 "metadata": {
  "kernelspec": {
   "display_name": "Python 3",
   "language": "python",
   "name": "python3"
  },
  "language_info": {
   "codemirror_mode": {
    "name": "ipython",
    "version": 3
   },
   "file_extension": ".py",
   "mimetype": "text/x-python",
   "name": "python",
   "nbconvert_exporter": "python",
   "pygments_lexer": "ipython3",
   "version": "3.10.11"
  }
 },
 "nbformat": 4,
 "nbformat_minor": 2
}
